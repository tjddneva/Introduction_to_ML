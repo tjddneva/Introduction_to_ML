{
 "cells": [
  {
   "cell_type": "markdown",
   "metadata": {},
   "source": [
    "# 기초머신러닝 Project2_KNN"
   ]
  },
  {
   "cell_type": "markdown",
   "metadata": {},
   "source": [
    "아래 이름, 학번을 작성하세요."
   ]
  },
  {
   "cell_type": "code",
   "execution_count": 75,
   "metadata": {},
   "outputs": [],
   "source": [
    "project2_student_id = '20171637'\n",
    "project2_student_name = '박성우'"
   ]
  },
  {
   "cell_type": "markdown",
   "metadata": {},
   "source": [
    "#  \n",
    "#  "
   ]
  },
  {
   "cell_type": "markdown",
   "metadata": {},
   "source": [
    "# Project2\n",
    "### -\t주어진 1NN 코드를 바탕으로 KNNClassifier가 되도록 KNNClassifier() 클래스를 작성 (OneNeighborClassifier()의 closest 함수를 수정하는 것을 포함한 여러 가지 방법 사용 가능)\n",
    "### -\t동일한 학습/테스트 데이터에 대하여 1NN, 3NN, 5NN, 7NN의 성능을 출력"
   ]
  },
  {
   "cell_type": "markdown",
   "metadata": {},
   "source": [
    "### Example) 1NN "
   ]
  },
  {
   "cell_type": "code",
   "execution_count": 76,
   "metadata": {},
   "outputs": [],
   "source": [
    "from sklearn import datasets\n",
    "iris = datasets.load_iris()"
   ]
  },
  {
   "cell_type": "code",
   "execution_count": 77,
   "metadata": {},
   "outputs": [],
   "source": [
    "X = iris.data\n",
    "# Iris.data contains the features or independent variables.\n",
    "y = iris.target\n",
    "# Iris.target contains the labels or the dependent variables."
   ]
  },
  {
   "cell_type": "code",
   "execution_count": 78,
   "metadata": {},
   "outputs": [],
   "source": [
    "from sklearn.model_selection import train_test_split"
   ]
  },
  {
   "cell_type": "code",
   "execution_count": 79,
   "metadata": {},
   "outputs": [],
   "source": [
    "X_train, X_test, y_train, y_test = train_test_split(X, y, test_size = 0.50)"
   ]
  },
  {
   "cell_type": "code",
   "execution_count": 80,
   "metadata": {},
   "outputs": [],
   "source": [
    "from scipy.spatial import distance  # Built in function called distance.\n",
    "\n",
    "                                    #Defining the n dimensional distance as euc.\n",
    "def euc(a,b):                       # Lists of numeric features. \n",
    "    return distance.euclidean(a,b)  # Measure and return the distance between 2 points \n",
    "                                    # i.e. the training point and a test point."
   ]
  },
  {
   "cell_type": "code",
   "execution_count": 81,
   "metadata": {},
   "outputs": [],
   "source": [
    "class OneNeighborClassifier():                # This 'class' has 2 Methods : Fit and Predict\n",
    "    \n",
    "    #Each step is followed by a comment which explains how the classifier is working \n",
    "    \n",
    "    def fit(self, X_train, y_train):          # Takes features and labels as input\n",
    "        self.X_train = X_train                # Storing the X_train in self.X_train\n",
    "        self.y_train = y_train                # Storing the y_train in self.y_train\n",
    "                                              # This is like the ML classifier will memorize the values \n",
    "        \n",
    "    def predict (self, X_test):               # Receives features from the testing data and returns predictions\n",
    "        predictions = []                      # List of predictions, since X_test is a 2D array or a list of lists.\n",
    "        for row in X_test:                    # Each row contains the features for one testing example\n",
    "            label = self.closest(row)         # We are calling the function that we are creating in the next block\n",
    "                                              # to find the closest training point from the test point\n",
    "            predictions.append(label)         # Add the labels to the predictions list to fill it.\n",
    "        return predictions                    # Return predictions as the output\n",
    "    \n",
    "    def closest(self, row):                   # Create the function closest such that -->\n",
    "        best_dist = euc(row, self.X_train[0]) # Measure the shortest distance a test point and the first train point\n",
    "        best_index = 0                        # Keep track of the index of the train point that is closest\n",
    "        for i in range (1, len(self.X_train)):# Iterate over the different training points\n",
    "            dist = euc(row, self.X_train[i])\n",
    "            if dist < best_dist:              # The moment we find a closer one, we update our variables.\n",
    "                best_dist = dist              # If dist is shorter than best_dist, then its the new best_dist\n",
    "                best_index = i                # Using the index of best_dist to return label of the closest training pt.\n",
    "        return self.y_train[best_index]       # Return that label"
   ]
  },
  {
   "cell_type": "code",
   "execution_count": 82,
   "metadata": {},
   "outputs": [],
   "source": [
    "my_classifier = OneNeighborClassifier()\n",
    "my_classifier.fit(X_train, y_train)"
   ]
  },
  {
   "cell_type": "code",
   "execution_count": 83,
   "metadata": {},
   "outputs": [],
   "source": [
    "pred = my_classifier.predict(X_test)"
   ]
  },
  {
   "cell_type": "code",
   "execution_count": 84,
   "metadata": {},
   "outputs": [
    {
     "name": "stdout",
     "output_type": "stream",
     "text": [
      "Accuracy : 89.333%\n"
     ]
    }
   ],
   "source": [
    "from sklearn.metrics import accuracy_score\n",
    "#print ('Accuracy of the classifier is', accuracy_score(y_test, pred)*100, '3.2%')\n",
    "acc = accuracy_score(y_test, pred)*100\n",
    "print (f'Accuracy : {acc:.3f}%')"
   ]
  },
  {
   "cell_type": "markdown",
   "metadata": {},
   "source": [
    "#  \n",
    "#  "
   ]
  },
  {
   "cell_type": "markdown",
   "metadata": {},
   "source": [
    "## Practice1"
   ]
  },
  {
   "cell_type": "markdown",
   "metadata": {},
   "source": [
    "필요에 따라, 작성한 KNNClassifier 클래스에 맞추어 성능 확인을 위한 3개의 셀 수정 가능"
   ]
  },
  {
   "cell_type": "code",
   "execution_count": 85,
   "metadata": {},
   "outputs": [],
   "source": [
    "class KNNClassifier():  \n",
    "    \n",
    "    def __init__(self, k):\n",
    "        self.k = k\n",
    "        \n",
    "    def fit(self, X_train, y_train):          # Takes features and labels as input\n",
    "        self.X_train = X_train                # Storing the X_train in self.X_train\n",
    "        self.y_train = y_train                # Storing the y_train in self.y_train\n",
    "                                              # This is like the ML classifier will memorize the values \n",
    "            \n",
    "    def predict (self, X_test):               # Receives features from the testing data and returns predictions\n",
    "        predictions = []                      # List of predictions, since X_test is a 2D array or a list of lists.\n",
    "        for row in X_test:                    # Each row contains the features for one testing example\n",
    "            label = self.closest(row)         # We are calling the function that we are creating in the next block\n",
    "                                              # to find the closest training point from the test point\n",
    "            predictions.append(label)         # Add the labels to the predictions list to fill it.\n",
    "        return predictions                    # Return predictions as the output\n",
    "\n",
    "    def closest(self, row):                 # Create the function closest such that -->\n",
    "        dist = []\n",
    "        for i in range(len(self.X_train)):\n",
    "            distance = euc(row, self.X_train[i])\n",
    "            dist.append((distance, i))\n",
    "        dist.sort()\n",
    "        k_dist = []\n",
    "        for i in range(self.k):\n",
    "            k_dist.append(self.y_train[dist[i][1]])\n",
    "        best_label = max(k_dist, key = k_dist.count)\n",
    "        return best_label        # Return that label"
   ]
  },
  {
   "cell_type": "code",
   "execution_count": 86,
   "metadata": {},
   "outputs": [],
   "source": [
    "knn_classifier1 = KNNClassifier(1)\n",
    "knn_classifier1.fit(X_train, y_train)"
   ]
  },
  {
   "cell_type": "code",
   "execution_count": 87,
   "metadata": {},
   "outputs": [],
   "source": [
    "knn_pred1 = knn_classifier1.predict(X_test)"
   ]
  },
  {
   "cell_type": "code",
   "execution_count": 88,
   "metadata": {},
   "outputs": [
    {
     "name": "stdout",
     "output_type": "stream",
     "text": [
      "Accuracy : 89.333%\n"
     ]
    }
   ],
   "source": [
    "knn_acc1 = accuracy_score(y_test, knn_pred1)*100\n",
    "print (f'Accuracy : {knn_acc1:.3f}%')"
   ]
  },
  {
   "cell_type": "markdown",
   "metadata": {},
   "source": [
    "##    "
   ]
  },
  {
   "cell_type": "code",
   "execution_count": 89,
   "metadata": {},
   "outputs": [],
   "source": [
    "knn_classifier3 = KNNClassifier(3)\n",
    "knn_classifier3.fit(X_train, y_train)"
   ]
  },
  {
   "cell_type": "code",
   "execution_count": 90,
   "metadata": {},
   "outputs": [],
   "source": [
    "knn_pred3 = knn_classifier3.predict(X_test)"
   ]
  },
  {
   "cell_type": "code",
   "execution_count": 91,
   "metadata": {},
   "outputs": [
    {
     "name": "stdout",
     "output_type": "stream",
     "text": [
      "Accuracy : 92.000%\n"
     ]
    }
   ],
   "source": [
    "knn_acc3 = accuracy_score(y_test, knn_pred3)*100\n",
    "print (f'Accuracy : {knn_acc3:.3f}%')"
   ]
  },
  {
   "cell_type": "markdown",
   "metadata": {},
   "source": [
    "##  "
   ]
  },
  {
   "cell_type": "code",
   "execution_count": 92,
   "metadata": {},
   "outputs": [],
   "source": [
    "knn_classifier5 = KNNClassifier(5)\n",
    "knn_classifier5.fit(X_train, y_train)"
   ]
  },
  {
   "cell_type": "code",
   "execution_count": 93,
   "metadata": {},
   "outputs": [],
   "source": [
    "knn_pred5 = knn_classifier5.predict(X_test)"
   ]
  },
  {
   "cell_type": "code",
   "execution_count": 94,
   "metadata": {},
   "outputs": [
    {
     "name": "stdout",
     "output_type": "stream",
     "text": [
      "Accuracy : 90.667%\n"
     ]
    }
   ],
   "source": [
    "knn_acc5 = accuracy_score(y_test, knn_pred5)*100\n",
    "print (f'Accuracy : {knn_acc5:.3f}%')"
   ]
  },
  {
   "cell_type": "markdown",
   "metadata": {},
   "source": [
    "##  "
   ]
  },
  {
   "cell_type": "code",
   "execution_count": 95,
   "metadata": {},
   "outputs": [],
   "source": [
    "knn_classifier7 = KNNClassifier(7)\n",
    "knn_classifier7.fit(X_train, y_train)"
   ]
  },
  {
   "cell_type": "code",
   "execution_count": 96,
   "metadata": {},
   "outputs": [],
   "source": [
    "knn_pred7 = knn_classifier7.predict(X_test)"
   ]
  },
  {
   "cell_type": "code",
   "execution_count": 97,
   "metadata": {},
   "outputs": [
    {
     "name": "stdout",
     "output_type": "stream",
     "text": [
      "Accuracy : 90.667%\n"
     ]
    }
   ],
   "source": [
    "knn_acc7 = accuracy_score(y_test, knn_pred7)*100\n",
    "print (f'Accuracy : {knn_acc7:.3f}%')"
   ]
  },
  {
   "cell_type": "markdown",
   "metadata": {},
   "source": [
    "#   \n",
    "#  "
   ]
  },
  {
   "cell_type": "markdown",
   "metadata": {},
   "source": [
    "# 결과 확인용\n",
    "수정금지 - 조교"
   ]
  },
  {
   "cell_type": "code",
   "execution_count": 98,
   "metadata": {},
   "outputs": [
    {
     "name": "stdout",
     "output_type": "stream",
     "text": [
      "학번: 20171637\n",
      "이름: 박성우\n"
     ]
    }
   ],
   "source": [
    "print(f'학번: {project2_student_id}')\n",
    "print(f'이름: {project2_student_name}')"
   ]
  },
  {
   "cell_type": "code",
   "execution_count": 99,
   "metadata": {},
   "outputs": [
    {
     "name": "stdout",
     "output_type": "stream",
     "text": [
      "Accuracy : 89.333%\n"
     ]
    }
   ],
   "source": [
    "knn_acc1 = accuracy_score(y_test, knn_pred1)*100\n",
    "print (f'Accuracy : {knn_acc1:.3f}%')"
   ]
  },
  {
   "cell_type": "code",
   "execution_count": 100,
   "metadata": {},
   "outputs": [
    {
     "name": "stdout",
     "output_type": "stream",
     "text": [
      "Accuracy : 92.000%\n"
     ]
    }
   ],
   "source": [
    "knn_acc3 = accuracy_score(y_test, knn_pred3)*100\n",
    "print (f'Accuracy : {knn_acc3:.3f}%')"
   ]
  },
  {
   "cell_type": "code",
   "execution_count": 101,
   "metadata": {},
   "outputs": [
    {
     "name": "stdout",
     "output_type": "stream",
     "text": [
      "Accuracy : 90.667%\n"
     ]
    }
   ],
   "source": [
    "knn_acc5 = accuracy_score(y_test, knn_pred5)*100\n",
    "print (f'Accuracy : {knn_acc5:.3f}%')"
   ]
  },
  {
   "cell_type": "code",
   "execution_count": 102,
   "metadata": {},
   "outputs": [
    {
     "name": "stdout",
     "output_type": "stream",
     "text": [
      "Accuracy : 90.667%\n"
     ]
    }
   ],
   "source": [
    "knn_acc7 = accuracy_score(y_test, knn_pred7)*100\n",
    "print (f'Accuracy : {knn_acc7:.3f}%')"
   ]
  }
 ],
 "metadata": {
  "kernelspec": {
   "display_name": "Python 3",
   "language": "python",
   "name": "python3"
  },
  "language_info": {
   "codemirror_mode": {
    "name": "ipython",
    "version": 3
   },
   "file_extension": ".py",
   "mimetype": "text/x-python",
   "name": "python",
   "nbconvert_exporter": "python",
   "pygments_lexer": "ipython3",
   "version": "3.8.5"
  }
 },
 "nbformat": 4,
 "nbformat_minor": 5
}
